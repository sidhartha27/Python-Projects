{
 "cells": [
  {
   "cell_type": "markdown",
   "id": "3ee20f53",
   "metadata": {},
   "source": [
    "# Netflix EDA"
   ]
  },
  {
   "cell_type": "markdown",
   "id": "9a195edb",
   "metadata": {},
   "source": [
    "#### Netflix is one of the most popular media and video streaming platforms. This tabular dataset consists of listings of all the movies and tv shows available on Netflix, along with details such as - cast, directors, ratings, release year, duration, etc."
   ]
  },
  {
   "cell_type": "markdown",
   "id": "382c7664",
   "metadata": {},
   "source": [
    "Let's load the dataset by importing required libraries"
   ]
  },
  {
   "cell_type": "code",
   "execution_count": 1,
   "id": "eba36020",
   "metadata": {},
   "outputs": [],
   "source": [
    "#Importing the libraries\n",
    "import numpy as np\n",
    "import pandas as pd\n",
    "import matplotlib.pyplot as plt\n",
    "import seaborn as sns\n",
    "%matplotlib inline"
   ]
  },
  {
   "cell_type": "markdown",
   "id": "a2e2d773",
   "metadata": {},
   "source": [
    "Loading the dataset"
   ]
  },
  {
   "cell_type": "code",
   "execution_count": 2,
   "id": "b6607e16",
   "metadata": {},
   "outputs": [],
   "source": [
    "#read the dataset and check the first five rows\n",
    "df= pd.read_excel(r\"C:\\Users\\user\\Downloads\\asbl_data_analyst_interview_assignment_netflix.xlsx\")"
   ]
  },
  {
   "cell_type": "code",
   "execution_count": 3,
   "id": "deb240b6",
   "metadata": {},
   "outputs": [
    {
     "data": {
      "text/html": [
       "<div>\n",
       "<style scoped>\n",
       "    .dataframe tbody tr th:only-of-type {\n",
       "        vertical-align: middle;\n",
       "    }\n",
       "\n",
       "    .dataframe tbody tr th {\n",
       "        vertical-align: top;\n",
       "    }\n",
       "\n",
       "    .dataframe thead th {\n",
       "        text-align: right;\n",
       "    }\n",
       "</style>\n",
       "<table border=\"1\" class=\"dataframe\">\n",
       "  <thead>\n",
       "    <tr style=\"text-align: right;\">\n",
       "      <th></th>\n",
       "      <th>Type</th>\n",
       "      <th>Title</th>\n",
       "      <th>Director</th>\n",
       "      <th>Cast</th>\n",
       "      <th>Country</th>\n",
       "      <th>Release_year</th>\n",
       "      <th>Genres</th>\n",
       "    </tr>\n",
       "  </thead>\n",
       "  <tbody>\n",
       "    <tr>\n",
       "      <th>0</th>\n",
       "      <td>Movie</td>\n",
       "      <td>Dick Johnson Is Dead</td>\n",
       "      <td>Kirsten Johnson</td>\n",
       "      <td>NaN</td>\n",
       "      <td>United States</td>\n",
       "      <td>2020</td>\n",
       "      <td>Documentaries</td>\n",
       "    </tr>\n",
       "    <tr>\n",
       "      <th>1</th>\n",
       "      <td>TV Show</td>\n",
       "      <td>Blood &amp; Water</td>\n",
       "      <td>NaN</td>\n",
       "      <td>Ama Qamata, Khosi Ngema, Gail Mabalane, Thaban...</td>\n",
       "      <td>South Africa</td>\n",
       "      <td>2021</td>\n",
       "      <td>International TV Shows, TV Dramas, TV Mysteries</td>\n",
       "    </tr>\n",
       "    <tr>\n",
       "      <th>2</th>\n",
       "      <td>TV Show</td>\n",
       "      <td>Ganglands</td>\n",
       "      <td>Julien Leclercq</td>\n",
       "      <td>Sami Bouajila, Tracy Gotoas, Samuel Jouy, Nabi...</td>\n",
       "      <td>NaN</td>\n",
       "      <td>2021</td>\n",
       "      <td>Crime TV Shows, International TV Shows, TV Act...</td>\n",
       "    </tr>\n",
       "    <tr>\n",
       "      <th>3</th>\n",
       "      <td>TV Show</td>\n",
       "      <td>Jailbirds New Orleans</td>\n",
       "      <td>NaN</td>\n",
       "      <td>NaN</td>\n",
       "      <td>NaN</td>\n",
       "      <td>2021</td>\n",
       "      <td>Docuseries, Reality TV</td>\n",
       "    </tr>\n",
       "    <tr>\n",
       "      <th>4</th>\n",
       "      <td>TV Show</td>\n",
       "      <td>Kota Factory</td>\n",
       "      <td>NaN</td>\n",
       "      <td>Mayur More, Jitendra Kumar, Ranjan Raj, Alam K...</td>\n",
       "      <td>India</td>\n",
       "      <td>2021</td>\n",
       "      <td>International TV Shows, Romantic TV Shows, TV ...</td>\n",
       "    </tr>\n",
       "  </tbody>\n",
       "</table>\n",
       "</div>"
      ],
      "text/plain": [
       "      Type                  Title         Director  \\\n",
       "0    Movie   Dick Johnson Is Dead  Kirsten Johnson   \n",
       "1  TV Show          Blood & Water              NaN   \n",
       "2  TV Show              Ganglands  Julien Leclercq   \n",
       "3  TV Show  Jailbirds New Orleans              NaN   \n",
       "4  TV Show           Kota Factory              NaN   \n",
       "\n",
       "                                                Cast        Country  \\\n",
       "0                                                NaN  United States   \n",
       "1  Ama Qamata, Khosi Ngema, Gail Mabalane, Thaban...   South Africa   \n",
       "2  Sami Bouajila, Tracy Gotoas, Samuel Jouy, Nabi...            NaN   \n",
       "3                                                NaN            NaN   \n",
       "4  Mayur More, Jitendra Kumar, Ranjan Raj, Alam K...          India   \n",
       "\n",
       "   Release_year                                             Genres  \n",
       "0          2020                                      Documentaries  \n",
       "1          2021    International TV Shows, TV Dramas, TV Mysteries  \n",
       "2          2021  Crime TV Shows, International TV Shows, TV Act...  \n",
       "3          2021                             Docuseries, Reality TV  \n",
       "4          2021  International TV Shows, Romantic TV Shows, TV ...  "
      ]
     },
     "execution_count": 3,
     "metadata": {},
     "output_type": "execute_result"
    }
   ],
   "source": [
    "df.head()"
   ]
  },
  {
   "cell_type": "code",
   "execution_count": 4,
   "id": "53649f08",
   "metadata": {},
   "outputs": [
    {
     "data": {
      "text/plain": [
       "(8807, 7)"
      ]
     },
     "execution_count": 4,
     "metadata": {},
     "output_type": "execute_result"
    }
   ],
   "source": [
    "#Checking the shape of the dataframe\n",
    "df.shape"
   ]
  },
  {
   "cell_type": "markdown",
   "id": "28d433a2",
   "metadata": {},
   "source": [
    "### Data Handling and Cleaning"
   ]
  },
  {
   "cell_type": "code",
   "execution_count": 5,
   "id": "d02e924e",
   "metadata": {},
   "outputs": [
    {
     "name": "stdout",
     "output_type": "stream",
     "text": [
      "<class 'pandas.core.frame.DataFrame'>\n",
      "RangeIndex: 8807 entries, 0 to 8806\n",
      "Data columns (total 7 columns):\n",
      " #   Column        Non-Null Count  Dtype \n",
      "---  ------        --------------  ----- \n",
      " 0   Type          8807 non-null   object\n",
      " 1   Title         8807 non-null   object\n",
      " 2   Director      6173 non-null   object\n",
      " 3   Cast          7982 non-null   object\n",
      " 4   Country       7976 non-null   object\n",
      " 5   Release_year  8807 non-null   int64 \n",
      " 6   Genres        8807 non-null   object\n",
      "dtypes: int64(1), object(6)\n",
      "memory usage: 481.8+ KB\n"
     ]
    }
   ],
   "source": [
    "#Check the datatypes of all the columns of the dataframe\n",
    "df.info()"
   ]
  },
  {
   "cell_type": "markdown",
   "id": "c3f77fc5",
   "metadata": {},
   "source": [
    "#### Looks like there are so many missing values in some columns"
   ]
  },
  {
   "cell_type": "code",
   "execution_count": 6,
   "id": "3adbe15c",
   "metadata": {
    "scrolled": true
   },
   "outputs": [
    {
     "data": {
      "text/plain": [
       "Type               0\n",
       "Title              0\n",
       "Director        2634\n",
       "Cast             825\n",
       "Country          831\n",
       "Release_year       0\n",
       "Genres             0\n",
       "dtype: int64"
      ]
     },
     "execution_count": 6,
     "metadata": {},
     "output_type": "execute_result"
    }
   ],
   "source": [
    "#Checking the number of null values in the columns\n",
    "df.isnull().sum()"
   ]
  },
  {
   "cell_type": "markdown",
   "id": "54593076",
   "metadata": {},
   "source": [
    " There are significant number of missing values present in *Director* column and approximately 10% of missing value present in *Cast* and *Country* column. We will have to handle all null data points before we can dive into EDA and modeling."
   ]
  },
  {
   "cell_type": "code",
   "execution_count": 7,
   "id": "3c2e2c82",
   "metadata": {},
   "outputs": [],
   "source": [
    "df['Director'].fillna('No Director', inplace=True)\n",
    "df['Cast'].fillna('No Cast', inplace=True)\n",
    "df['Country'].fillna('No Country Given', inplace=True)"
   ]
  },
  {
   "cell_type": "markdown",
   "id": "8bfc1f53",
   "metadata": {},
   "source": [
    "For null values, the easiest way to get rid of them would be to delete the rows with the missing data. However, this wouldn't be beneficial to our EDA since there is loss of information. Since 'director', 'cast', and 'country' contain the majority of null values, I will choose to treat each missing value as unavailable."
   ]
  },
  {
   "cell_type": "code",
   "execution_count": 8,
   "id": "4c364358",
   "metadata": {},
   "outputs": [
    {
     "data": {
      "text/plain": [
       "Type            0\n",
       "Title           0\n",
       "Director        0\n",
       "Cast            0\n",
       "Country         0\n",
       "Release_year    0\n",
       "Genres          0\n",
       "dtype: int64"
      ]
     },
     "execution_count": 8,
     "metadata": {},
     "output_type": "execute_result"
    }
   ],
   "source": [
    "# Now let's again check for missing values if there's any\n",
    "df.isnull().sum()"
   ]
  },
  {
   "cell_type": "markdown",
   "id": "d9b1d6c4",
   "metadata": {},
   "source": [
    "There are not any missing value present in the dataset. So, we will proceed further."
   ]
  },
  {
   "cell_type": "code",
   "execution_count": 9,
   "id": "6ed657f6",
   "metadata": {},
   "outputs": [
    {
     "data": {
      "text/plain": [
       "Type            object\n",
       "Title           object\n",
       "Director        object\n",
       "Cast            object\n",
       "Country         object\n",
       "Release_year     int64\n",
       "Genres          object\n",
       "dtype: object"
      ]
     },
     "execution_count": 9,
     "metadata": {},
     "output_type": "execute_result"
    }
   ],
   "source": [
    "#Checking the datatypes of dataset\n",
    "df.dtypes"
   ]
  },
  {
   "cell_type": "markdown",
   "id": "038ca157",
   "metadata": {},
   "source": [
    "#### Each column has the correct datatypes as they should have. We can move forward in our analysis."
   ]
  },
  {
   "cell_type": "markdown",
   "id": "24a93fd8",
   "metadata": {},
   "source": [
    "### Splitting of Type column"
   ]
  },
  {
   "cell_type": "markdown",
   "id": "57587355",
   "metadata": {},
   "source": [
    "Since the dataset can either contain movies or shows, it'd be nice to have datasets for both so we can take a deep dive into just Netflix movies or Netflix TV shows so we will create two new datasets. One for movies and the other one for shows."
   ]
  },
  {
   "cell_type": "code",
   "execution_count": 10,
   "id": "7333f7c2",
   "metadata": {},
   "outputs": [
    {
     "data": {
      "text/html": [
       "<div>\n",
       "<style scoped>\n",
       "    .dataframe tbody tr th:only-of-type {\n",
       "        vertical-align: middle;\n",
       "    }\n",
       "\n",
       "    .dataframe tbody tr th {\n",
       "        vertical-align: top;\n",
       "    }\n",
       "\n",
       "    .dataframe thead th {\n",
       "        text-align: right;\n",
       "    }\n",
       "</style>\n",
       "<table border=\"1\" class=\"dataframe\">\n",
       "  <thead>\n",
       "    <tr style=\"text-align: right;\">\n",
       "      <th></th>\n",
       "      <th>Type</th>\n",
       "      <th>Title</th>\n",
       "      <th>Director</th>\n",
       "      <th>Cast</th>\n",
       "      <th>Country</th>\n",
       "      <th>Release_year</th>\n",
       "      <th>Genres</th>\n",
       "    </tr>\n",
       "  </thead>\n",
       "  <tbody>\n",
       "    <tr>\n",
       "      <th>0</th>\n",
       "      <td>Movie</td>\n",
       "      <td>Dick Johnson Is Dead</td>\n",
       "      <td>Kirsten Johnson</td>\n",
       "      <td>No Cast</td>\n",
       "      <td>United States</td>\n",
       "      <td>2020</td>\n",
       "      <td>Documentaries</td>\n",
       "    </tr>\n",
       "    <tr>\n",
       "      <th>6</th>\n",
       "      <td>Movie</td>\n",
       "      <td>My Little Pony: A New Generation</td>\n",
       "      <td>Robert Cullen, José Luis Ucha</td>\n",
       "      <td>Vanessa Hudgens, Kimiko Glenn, James Marsden, ...</td>\n",
       "      <td>No Country Given</td>\n",
       "      <td>2021</td>\n",
       "      <td>Children &amp; Family Movies</td>\n",
       "    </tr>\n",
       "    <tr>\n",
       "      <th>7</th>\n",
       "      <td>Movie</td>\n",
       "      <td>Sankofa</td>\n",
       "      <td>Haile Gerima</td>\n",
       "      <td>Kofi Ghanaba, Oyafunmike Ogunlano, Alexandra D...</td>\n",
       "      <td>United States, Ghana, Burkina Faso, United Kin...</td>\n",
       "      <td>1993</td>\n",
       "      <td>Dramas, Independent Movies, International Movies</td>\n",
       "    </tr>\n",
       "    <tr>\n",
       "      <th>9</th>\n",
       "      <td>Movie</td>\n",
       "      <td>The Starling</td>\n",
       "      <td>Theodore Melfi</td>\n",
       "      <td>Melissa McCarthy, Chris O'Dowd, Kevin Kline, T...</td>\n",
       "      <td>United States</td>\n",
       "      <td>2021</td>\n",
       "      <td>Comedies, Dramas</td>\n",
       "    </tr>\n",
       "    <tr>\n",
       "      <th>12</th>\n",
       "      <td>Movie</td>\n",
       "      <td>Je Suis Karl</td>\n",
       "      <td>Christian Schwochow</td>\n",
       "      <td>Luna Wedler, Jannis Niewöhner, Milan Peschel, ...</td>\n",
       "      <td>Germany, Czech Republic</td>\n",
       "      <td>2021</td>\n",
       "      <td>Dramas, International Movies</td>\n",
       "    </tr>\n",
       "  </tbody>\n",
       "</table>\n",
       "</div>"
      ],
      "text/plain": [
       "     Type                             Title                       Director  \\\n",
       "0   Movie              Dick Johnson Is Dead                Kirsten Johnson   \n",
       "6   Movie  My Little Pony: A New Generation  Robert Cullen, José Luis Ucha   \n",
       "7   Movie                           Sankofa                   Haile Gerima   \n",
       "9   Movie                      The Starling                 Theodore Melfi   \n",
       "12  Movie                      Je Suis Karl            Christian Schwochow   \n",
       "\n",
       "                                                 Cast  \\\n",
       "0                                             No Cast   \n",
       "6   Vanessa Hudgens, Kimiko Glenn, James Marsden, ...   \n",
       "7   Kofi Ghanaba, Oyafunmike Ogunlano, Alexandra D...   \n",
       "9   Melissa McCarthy, Chris O'Dowd, Kevin Kline, T...   \n",
       "12  Luna Wedler, Jannis Niewöhner, Milan Peschel, ...   \n",
       "\n",
       "                                              Country  Release_year  \\\n",
       "0                                       United States          2020   \n",
       "6                                    No Country Given          2021   \n",
       "7   United States, Ghana, Burkina Faso, United Kin...          1993   \n",
       "9                                       United States          2021   \n",
       "12                            Germany, Czech Republic          2021   \n",
       "\n",
       "                                              Genres  \n",
       "0                                      Documentaries  \n",
       "6                           Children & Family Movies  \n",
       "7   Dramas, Independent Movies, International Movies  \n",
       "9                                   Comedies, Dramas  \n",
       "12                      Dramas, International Movies  "
      ]
     },
     "execution_count": 10,
     "metadata": {},
     "output_type": "execute_result"
    }
   ],
   "source": [
    "# For movies\n",
    "movies_df = df[df['Type']=='Movie'].copy()\n",
    "movies_df.head()"
   ]
  },
  {
   "cell_type": "code",
   "execution_count": 11,
   "id": "84a3d51c",
   "metadata": {},
   "outputs": [
    {
     "data": {
      "text/html": [
       "<div>\n",
       "<style scoped>\n",
       "    .dataframe tbody tr th:only-of-type {\n",
       "        vertical-align: middle;\n",
       "    }\n",
       "\n",
       "    .dataframe tbody tr th {\n",
       "        vertical-align: top;\n",
       "    }\n",
       "\n",
       "    .dataframe thead th {\n",
       "        text-align: right;\n",
       "    }\n",
       "</style>\n",
       "<table border=\"1\" class=\"dataframe\">\n",
       "  <thead>\n",
       "    <tr style=\"text-align: right;\">\n",
       "      <th></th>\n",
       "      <th>Type</th>\n",
       "      <th>Title</th>\n",
       "      <th>Director</th>\n",
       "      <th>Cast</th>\n",
       "      <th>Country</th>\n",
       "      <th>Release_year</th>\n",
       "      <th>Genres</th>\n",
       "    </tr>\n",
       "  </thead>\n",
       "  <tbody>\n",
       "    <tr>\n",
       "      <th>1</th>\n",
       "      <td>TV Show</td>\n",
       "      <td>Blood &amp; Water</td>\n",
       "      <td>No Director</td>\n",
       "      <td>Ama Qamata, Khosi Ngema, Gail Mabalane, Thaban...</td>\n",
       "      <td>South Africa</td>\n",
       "      <td>2021</td>\n",
       "      <td>International TV Shows, TV Dramas, TV Mysteries</td>\n",
       "    </tr>\n",
       "    <tr>\n",
       "      <th>2</th>\n",
       "      <td>TV Show</td>\n",
       "      <td>Ganglands</td>\n",
       "      <td>Julien Leclercq</td>\n",
       "      <td>Sami Bouajila, Tracy Gotoas, Samuel Jouy, Nabi...</td>\n",
       "      <td>No Country Given</td>\n",
       "      <td>2021</td>\n",
       "      <td>Crime TV Shows, International TV Shows, TV Act...</td>\n",
       "    </tr>\n",
       "    <tr>\n",
       "      <th>3</th>\n",
       "      <td>TV Show</td>\n",
       "      <td>Jailbirds New Orleans</td>\n",
       "      <td>No Director</td>\n",
       "      <td>No Cast</td>\n",
       "      <td>No Country Given</td>\n",
       "      <td>2021</td>\n",
       "      <td>Docuseries, Reality TV</td>\n",
       "    </tr>\n",
       "    <tr>\n",
       "      <th>4</th>\n",
       "      <td>TV Show</td>\n",
       "      <td>Kota Factory</td>\n",
       "      <td>No Director</td>\n",
       "      <td>Mayur More, Jitendra Kumar, Ranjan Raj, Alam K...</td>\n",
       "      <td>India</td>\n",
       "      <td>2021</td>\n",
       "      <td>International TV Shows, Romantic TV Shows, TV ...</td>\n",
       "    </tr>\n",
       "    <tr>\n",
       "      <th>5</th>\n",
       "      <td>TV Show</td>\n",
       "      <td>Midnight Mass</td>\n",
       "      <td>Mike Flanagan</td>\n",
       "      <td>Kate Siegel, Zach Gilford, Hamish Linklater, H...</td>\n",
       "      <td>No Country Given</td>\n",
       "      <td>2021</td>\n",
       "      <td>TV Dramas, TV Horror, TV Mysteries</td>\n",
       "    </tr>\n",
       "  </tbody>\n",
       "</table>\n",
       "</div>"
      ],
      "text/plain": [
       "      Type                  Title         Director  \\\n",
       "1  TV Show          Blood & Water      No Director   \n",
       "2  TV Show              Ganglands  Julien Leclercq   \n",
       "3  TV Show  Jailbirds New Orleans      No Director   \n",
       "4  TV Show           Kota Factory      No Director   \n",
       "5  TV Show          Midnight Mass    Mike Flanagan   \n",
       "\n",
       "                                                Cast           Country  \\\n",
       "1  Ama Qamata, Khosi Ngema, Gail Mabalane, Thaban...      South Africa   \n",
       "2  Sami Bouajila, Tracy Gotoas, Samuel Jouy, Nabi...  No Country Given   \n",
       "3                                            No Cast  No Country Given   \n",
       "4  Mayur More, Jitendra Kumar, Ranjan Raj, Alam K...             India   \n",
       "5  Kate Siegel, Zach Gilford, Hamish Linklater, H...  No Country Given   \n",
       "\n",
       "   Release_year                                             Genres  \n",
       "1          2021    International TV Shows, TV Dramas, TV Mysteries  \n",
       "2          2021  Crime TV Shows, International TV Shows, TV Act...  \n",
       "3          2021                             Docuseries, Reality TV  \n",
       "4          2021  International TV Shows, Romantic TV Shows, TV ...  \n",
       "5          2021                 TV Dramas, TV Horror, TV Mysteries  "
      ]
     },
     "execution_count": 11,
     "metadata": {},
     "output_type": "execute_result"
    }
   ],
   "source": [
    "# For TV shows\n",
    "TV_df = df[df['Type']=='TV Show'].copy()\n",
    "TV_df.head()"
   ]
  },
  {
   "cell_type": "markdown",
   "id": "1abced5e",
   "metadata": {},
   "source": [
    "## Data analysis and Visualizations"
   ]
  },
  {
   "cell_type": "markdown",
   "id": "270e71ee",
   "metadata": {},
   "source": [
    "#### Types: Movie or TV Show\n",
    "It'd be interesting to see the comparison between the total number of movies and shows in this dataset just to get an idea of which one is the majority."
   ]
  },
  {
   "cell_type": "code",
   "execution_count": 12,
   "id": "459c6541",
   "metadata": {},
   "outputs": [
    {
     "data": {
      "text/plain": [
       "Movie      6131\n",
       "TV Show    2676\n",
       "Name: Type, dtype: int64"
      ]
     },
     "execution_count": 12,
     "metadata": {},
     "output_type": "execute_result"
    }
   ],
   "source": [
    "# Lets count number of movies and TV shows in the list\n",
    "show_type=df['Type'].value_counts()\n",
    "show_type"
   ]
  },
  {
   "cell_type": "code",
   "execution_count": 13,
   "id": "273356b4",
   "metadata": {},
   "outputs": [
    {
     "name": "stderr",
     "output_type": "stream",
     "text": [
      "C:\\Users\\user\\anaconda3\\lib\\site-packages\\seaborn\\_decorators.py:36: FutureWarning: Pass the following variable as a keyword arg: x. From version 0.12, the only valid positional argument will be `data`, and passing other arguments without an explicit keyword will result in an error or misinterpretation.\n",
      "  warnings.warn(\n"
     ]
    },
    {
     "data": {
      "image/png": "[encoded data removed]",
      "text/plain": [
       "<Figure size 504x360 with 1 Axes>"
      ]
     },
     "metadata": {
      "needs_background": "light"
     },
     "output_type": "display_data"
    }
   ],
   "source": [
    "plt.figure(figsize=(7,5))\n",
    "sns.countplot(df.Type);\n",
    "plt.title(\"Count of Movies and TV Shows\", fontsize = 25)\n",
    "plt.xlabel(\"Type (Movie/TV Show)\")\n",
    "plt.ylabel(\"Total Count\" )\n",
    "plt.show()"
   ]
  },
  {
   "cell_type": "code",
   "execution_count": 14,
   "id": "71113cba",
   "metadata": {},
   "outputs": [
    {
     "data": {
      "image/png": "[encoded data removed]",
      "text/plain": [
       "<Figure size 576x432 with 1 Axes>"
      ]
     },
     "metadata": {},
     "output_type": "display_data"
    }
   ],
   "source": [
    "plt.figure(figsize=(8,6))\n",
    "plt.title(\"% of Netflix Titles that are either Movies or TV Shows\", fontsize=20)\n",
    "plt.pie(show_type, explode=(0.025,0.025),labels=df.Type.value_counts().index,autopct='%1.1f%%',  startangle=180)\n",
    "plt.legend()\n",
    "plt.show()"
   ]
  },
  {
   "cell_type": "markdown",
   "id": "befd8ffc",
   "metadata": {},
   "source": [
    "##### There are more movies then TV show listed in the Netflix.This makes sense since shows are always an ongoing thing and have episodes. If we were to do a headcount of TV show episodes vs. movies, I am sure that TV shows would come out as the majority. However, in terms of title, there are far more movie titles (69.6%) than TV show titles (30.4%)."
   ]
  },
  {
   "cell_type": "markdown",
   "id": "01dee7ed",
   "metadata": {},
   "source": [
    "### Movies/Tv shows added each year\n",
    "Now we will take a look at the amount content Netflix has added throughout the previous years. "
   ]
  },
  {
   "cell_type": "code",
   "execution_count": 15,
   "id": "9a836d43",
   "metadata": {},
   "outputs": [
    {
     "data": {
      "text/html": [
       "<div>\n",
       "<style scoped>\n",
       "    .dataframe tbody tr th:only-of-type {\n",
       "        vertical-align: middle;\n",
       "    }\n",
       "\n",
       "    .dataframe tbody tr th {\n",
       "        vertical-align: top;\n",
       "    }\n",
       "\n",
       "    .dataframe thead th {\n",
       "        text-align: right;\n",
       "    }\n",
       "</style>\n",
       "<table border=\"1\" class=\"dataframe\">\n",
       "  <thead>\n",
       "    <tr style=\"text-align: right;\">\n",
       "      <th></th>\n",
       "      <th>year</th>\n",
       "      <th>count</th>\n",
       "    </tr>\n",
       "  </thead>\n",
       "  <tbody>\n",
       "    <tr>\n",
       "      <th>0</th>\n",
       "      <td>2018</td>\n",
       "      <td>1147</td>\n",
       "    </tr>\n",
       "    <tr>\n",
       "      <th>1</th>\n",
       "      <td>2017</td>\n",
       "      <td>1032</td>\n",
       "    </tr>\n",
       "    <tr>\n",
       "      <th>2</th>\n",
       "      <td>2019</td>\n",
       "      <td>1030</td>\n",
       "    </tr>\n",
       "    <tr>\n",
       "      <th>3</th>\n",
       "      <td>2020</td>\n",
       "      <td>953</td>\n",
       "    </tr>\n",
       "    <tr>\n",
       "      <th>4</th>\n",
       "      <td>2016</td>\n",
       "      <td>902</td>\n",
       "    </tr>\n",
       "    <tr>\n",
       "      <th>...</th>\n",
       "      <td>...</td>\n",
       "      <td>...</td>\n",
       "    </tr>\n",
       "    <tr>\n",
       "      <th>69</th>\n",
       "      <td>1959</td>\n",
       "      <td>1</td>\n",
       "    </tr>\n",
       "    <tr>\n",
       "      <th>70</th>\n",
       "      <td>1925</td>\n",
       "      <td>1</td>\n",
       "    </tr>\n",
       "    <tr>\n",
       "      <th>71</th>\n",
       "      <td>1961</td>\n",
       "      <td>1</td>\n",
       "    </tr>\n",
       "    <tr>\n",
       "      <th>72</th>\n",
       "      <td>1947</td>\n",
       "      <td>1</td>\n",
       "    </tr>\n",
       "    <tr>\n",
       "      <th>73</th>\n",
       "      <td>1966</td>\n",
       "      <td>1</td>\n",
       "    </tr>\n",
       "  </tbody>\n",
       "</table>\n",
       "<p>74 rows × 2 columns</p>\n",
       "</div>"
      ],
      "text/plain": [
       "    year  count\n",
       "0   2018   1147\n",
       "1   2017   1032\n",
       "2   2019   1030\n",
       "3   2020    953\n",
       "4   2016    902\n",
       "..   ...    ...\n",
       "69  1959      1\n",
       "70  1925      1\n",
       "71  1961      1\n",
       "72  1947      1\n",
       "73  1966      1\n",
       "\n",
       "[74 rows x 2 columns]"
      ]
     },
     "execution_count": 15,
     "metadata": {},
     "output_type": "execute_result"
    }
   ],
   "source": [
    "year = df['Release_year'].value_counts().to_frame().reset_index().rename(columns={'index': 'year','Release_year':'count'})\n",
    "year"
   ]
  },
  {
   "cell_type": "code",
   "execution_count": 16,
   "id": "aacf8bd6",
   "metadata": {},
   "outputs": [
    {
     "data": {
      "image/png": "[encoded data removed]",
      "text/plain": [
       "<Figure size 1080x720 with 1 Axes>"
      ]
     },
     "metadata": {
      "needs_background": "light"
     },
     "output_type": "display_data"
    }
   ],
   "source": [
    "fig, ax = plt.subplots(figsize=(15, 10))\n",
    "sns.lineplot(data=year, x='year', y='count')\n",
    "ax.set_xticks(np.arange(1940, 2021, 5))\n",
    "plt.title(\"Total content added each year \")\n",
    "plt.ylabel(\"Releases\")\n",
    "plt.xlabel(\"Year\")\n",
    "plt.show()"
   ]
  },
  {
   "cell_type": "markdown",
   "id": "f74fec01",
   "metadata": {},
   "source": [
    "##### Based on the above timeline , we can see that the growth of movie/TV show relased has been growing tremendously after 2005."
   ]
  },
  {
   "cell_type": "markdown",
   "id": "dfc141aa",
   "metadata": {},
   "source": [
    "### Countries with most number of movie\n",
    " \n",
    " Now we will explore the countries with the most content on Netflix. Films typically are available in multiple countries as shown in the original dataset. Therefore, we need to seperate all countries within a film before we can analyze the data. After seperating countries and removing titles with no countries available, we will plot a Top 20 list to see which countries have the highest availability of films on Netflix"
   ]
  },
  {
   "cell_type": "code",
   "execution_count": 17,
   "id": "64c4b122",
   "metadata": {},
   "outputs": [],
   "source": [
    "df_countries =df.set_index('Title').Country.str.split(', ', expand=True).stack().reset_index(level=1, drop=True)\n",
    "df_countries = df_countries[df_countries != 'No Country Given']"
   ]
  },
  {
   "cell_type": "code",
   "execution_count": 18,
   "id": "f68cfed1",
   "metadata": {},
   "outputs": [
    {
     "data": {
      "image/png": "[encoded data removed]",
      "text/plain": [
       "<Figure size 720x576 with 1 Axes>"
      ]
     },
     "metadata": {
      "needs_background": "light"
     },
     "output_type": "display_data"
    }
   ],
   "source": [
    "plt.figure(figsize=(10,8))\n",
    "sns.countplot(y = df_countries, order=df_countries.value_counts().index[:20])\n",
    "plt.title('Top 20 Countries on Netflix')\n",
    "plt.xlabel('No_of_Title')\n",
    "plt.ylabel('Country')\n",
    "plt.show()"
   ]
  },
  {
   "cell_type": "markdown",
   "id": "ec0a966a",
   "metadata": {},
   "source": [
    "The United States stands out on top since Netflix is an American company. India surprisingly comes in second followed by the UK and Canada. China interestingly is not even close to the top even though it has been producing good number of contents."
   ]
  },
  {
   "cell_type": "markdown",
   "id": "0ed5ba17",
   "metadata": {},
   "source": [
    "### Genre with most number of contents"
   ]
  },
  {
   "cell_type": "code",
   "execution_count": 19,
   "id": "7bb6b2b6",
   "metadata": {},
   "outputs": [
    {
     "data": {
      "image/png": "[encoded data removed]",
      "text/plain": [
       "<Figure size 720x576 with 1 Axes>"
      ]
     },
     "metadata": {
      "needs_background": "light"
     },
     "output_type": "display_data"
    }
   ],
   "source": [
    "df_genres = df.set_index('Title').Genres.str.split(', ', expand=True).stack().reset_index(level=1, drop=True);\n",
    "\n",
    "plt.figure(figsize=(10,8))\n",
    "sns.countplot(y = df_genres, order=df_genres.value_counts().index[:20])\n",
    "plt.title('Top 20 Genres on Netflix')\n",
    "plt.xlabel('No_of_Titles')\n",
    "plt.ylabel('Genres')\n",
    "plt.show()"
   ]
  },
  {
   "cell_type": "markdown",
   "id": "f2010f8f",
   "metadata": {},
   "source": [
    "International movies takes the cake surprisingly followed by dramas and comedies. Even though the United States has the most content available, it looks like Netflix has decided to release a ton of international movies. The reason for this could be that most Netflix subscribers aren't actually in the United States, but rather the majority of viewers are actually international subscribers."
   ]
  },
  {
   "cell_type": "markdown",
   "id": "47fc49b0",
   "metadata": {},
   "source": [
    "## a).Which are the top 5 directors who produce most of the movies only?"
   ]
  },
  {
   "cell_type": "code",
   "execution_count": 20,
   "id": "e42af41a",
   "metadata": {},
   "outputs": [
    {
     "data": {
      "image/png": "[encoded data removed]",
      "text/plain": [
       "<Figure size 432x288 with 1 Axes>"
      ]
     },
     "metadata": {
      "needs_background": "light"
     },
     "output_type": "display_data"
    }
   ],
   "source": [
    "df_directors = df[df.Director != 'No Director'].set_index('Title').Director.str.split(', ', expand=True).stack().reset_index(drop=True)\n",
    "sns.countplot(y = df_directors, order=df_directors.value_counts().index[:5])\n",
    "plt.show()"
   ]
  },
  {
   "cell_type": "markdown",
   "id": "886bb27f",
   "metadata": {},
   "source": [
    "## b).Which are the top 5 genres which are liked by people or here liking means listed on the portal of Netflix (you can find a count for each genre and list the top 5 genres) for movies and TV shows?"
   ]
  },
  {
   "cell_type": "code",
   "execution_count": 21,
   "id": "0a668862",
   "metadata": {},
   "outputs": [
    {
     "data": {
      "image/png": "[encoded data removed]",
      "text/plain": [
       "<Figure size 720x576 with 1 Axes>"
      ]
     },
     "metadata": {
      "needs_background": "light"
     },
     "output_type": "display_data"
    }
   ],
   "source": [
    "df_genres = df.set_index('Title').Genres.str.split(', ', expand=True).stack().reset_index(level=1, drop=True);\n",
    "\n",
    "plt.figure(figsize=(10,8))\n",
    "sns.countplot(y = df_genres, order=df_genres.value_counts().index[:5])\n",
    "plt.title('Top 20 Genres on Netflix')\n",
    "plt.xlabel('No_of_Titles')\n",
    "plt.ylabel('Genres')\n",
    "plt.show()"
   ]
  },
  {
   "cell_type": "markdown",
   "id": "5087facf",
   "metadata": {},
   "source": [
    "## d).Which are the top 10 actors who are liked by people and have the most content on the Netflix OTT platform?"
   ]
  },
  {
   "cell_type": "code",
   "execution_count": 22,
   "id": "a15997da",
   "metadata": {},
   "outputs": [
    {
     "data": {
      "image/png": "[encoded data removed]",
      "text/plain": [
       "<Figure size 432x288 with 1 Axes>"
      ]
     },
     "metadata": {
      "needs_background": "light"
     },
     "output_type": "display_data"
    }
   ],
   "source": [
    "df_cast = df[df.Cast != 'No Cast'].set_index('Title').Cast.str.split(', ', expand=True).stack().reset_index(level=1, drop=True)\n",
    "sns.countplot(y = df_cast, order=df_cast.value_counts().index[:10])\n",
    "plt.show()"
   ]
  },
  {
   "cell_type": "markdown",
   "id": "0f229644",
   "metadata": {},
   "source": [
    "## c). Which 2 directors should Netflix collaborate with more based on the increase in their movies or tv shows over the past years? [OPTIONAL]"
   ]
  },
  {
   "cell_type": "markdown",
   "id": "e94d08c8",
   "metadata": {},
   "source": [
    "Ans. Based on the Bar chart on question \"a\", we clearly see top 5 most successful directors in therm of successful contents.So *Rajiv Chilaka* and *Jan Suter* are the 2 directors Netflix shall collaborate with."
   ]
  },
  {
   "cell_type": "markdown",
   "id": "8f806bab",
   "metadata": {},
   "source": [
    "## e).Which 2 actors should Netflix collaborate with more based on the increase in their movies or tv shows over the past years? [OPTIONAL]\n"
   ]
  },
  {
   "cell_type": "markdown",
   "id": "2f14a498",
   "metadata": {},
   "source": [
    "*Anupam Kher* and *Shahrukh Khan*"
   ]
  },
  {
   "cell_type": "markdown",
   "id": "af5eed1d",
   "metadata": {},
   "source": [
    "# Thank you !"
   ]
  }
 ],
 "metadata": {
  "kernelspec": {
   "display_name": "Python 3 (ipykernel)",
   "language": "python",
   "name": "python3"
  },
  "language_info": {
   "codemirror_mode": {
    "name": "ipython",
    "version": 3
   },
   "file_extension": ".py",
   "mimetype": "text/x-python",
   "name": "python",
   "nbconvert_exporter": "python",
   "pygments_lexer": "ipython3",
   "version": "3.9.12"
  }
 },
 "nbformat": 4,
 "nbformat_minor": 5
}
